{
 "cells": [
  {
   "cell_type": "markdown",
   "metadata": {},
   "source": [
    "# Introduction to ACL2\n",
    "\n",
    "## Basic Function Definitions\n",
    "\n",
    "Definitions in ACL2 (like everything else in ACL2) are expressions. In languages like C++ or Java, when you define a function, you are describing a process for computing the answer. But in ACL2, what you write down is an expression that is the value you have in mind. This is much closer to the way functions are defined in math. For example, here is a function of the sort high school students investigate in algebra:\n",
    "\n",
    "$$f(x) = 3x^2 + 8x + 12$$\n",
    "\n",
    "Notice the definition is given by equality: $f(x)$ really **is the same as** $3x^2 + 8x + 12$. In ACL2, you define functions using the pattern\n",
    "\n",
    "    (defun name (arg1 arg2 ... argn)\n",
    "      ...expression...)\n",
    "\n",
    "And this has the meaning\n",
    "\n",
    "    (name arg1 arg2 ... argn) = ...expression...\n",
    "\n",
    "Notice the similarity with the mathematical definition. In fact, here is the definition of that function in ACL2. You should submit it to ACL2 by running the next cell in this Jupyter notebook.\n"
   ]
  },
  {
   "cell_type": "code",
   "execution_count": 15,
   "metadata": {
    "scrolled": true
   },
   "outputs": [
    {
     "name": "stdout",
     "output_type": "stream",
     "text": [
      "ACL2S !>>(DEFUN F (X) (+ (* 3 X X) (* 8 X) 12))\n",
      "\n",
      "The event ( DEFUN F ...) is redundant.  See :DOC redundant-events.\n",
      "\n",
      "Summary\n",
      "Form:  ( DEFUN F ...)\n",
      "Rules: NIL\n",
      "Time:  0.00 seconds (prove: 0.00, print: 0.00, other: 0.00)\n",
      " :REDUNDANT\n",
      "\n"
     ]
    }
   ],
   "source": [
    "(defun f (x)\n",
    "    (+ (* 3 x x) (* 8 x) 12))"
   ]
  },
  {
   "cell_type": "markdown",
   "metadata": {},
   "source": [
    "When you submit this definition to ACL2, you should see output similar to the following:\n",
    "\n",
    "    Since F is non-recursive, its admission is trivial.  We observe that\n",
    "    the type of F is described by the theorem (ACL2-NUMBERP (F X)).  We\n",
    "    used primitive type reasoning.\n",
    "\n",
    "    Summary\n",
    "    Form:  ( DEFUN F ...)\n",
    "    Rules: ((:FAKE-RUNE-FOR-TYPE-SET NIL))\n",
    "    Time:  0.00 seconds (prove: 0.00, print: 0.00, other: 0.00)\n",
    "     F\n",
    "\n",
    "The first paragraph tells you that ACL2 is very confident that this function will always terminate, since it's not recursive (so it doesn't have any loops, so it can't have an infinite loop.) ACL2 will not let you define functions unless it's sure that they always terminate, and this first paragraph tells you why it thinks your function is well-defined or if it disagrees. This is one place where people run into problems when they start using ACL2, so be careful.\n",
    "\n",
    "The Summary section just tells you what ACL2 did. It defined a function called `F`, it did so in 0.00 seconds (rounded), and the result of executing this is the new function `F`. (If you love details, you probably noticed the extra space before the `F` in the last line of the output. That space is not a typo; it is there to let you know that this is the value returned by the definition. Remember, everything is an expression, so even function definitions have values.)\n",
    "\n",
    "After defining the function, you can use it just like any of the ACL2 built-in functions. Go ahead and use the function $f$ defined above to find\n",
    "* $f(1)$\n",
    "* $f(0)$\n",
    "* $f(10)$"
   ]
  },
  {
   "cell_type": "code",
   "execution_count": 3,
   "metadata": {},
   "outputs": [
    {
     "name": "stdout",
     "output_type": "stream",
     "text": [
      "ACL2S !>>(F 1)\n",
      "23\n",
      "ACL2S !>>(F 0)\n",
      "12\n",
      "ACL2S !>>(F 10)\n",
      "392\n",
      "\n"
     ]
    }
   ],
   "source": [
    "(f 1)\n",
    "(f 0)\n",
    "(f 10)"
   ]
  },
  {
   "cell_type": "markdown",
   "metadata": {},
   "source": [
    "## Aside on Function and Variable Names\n",
    "\n",
    "The definition above has the \"variable\" `x` and several function names:\n",
    "* `f`, the function being defined\n",
    "* '+' and '*', functions used in the body of the definition\n",
    "\n",
    "As you can see, ACL2 allows many more characters in names than languages like Java or Python. In fact, all of these names are valid in ACL2:\n",
    "* `fred`\n",
    "* `sally`\n",
    "* `fred&sally`\n",
    "* `fred-and-sally`\n",
    "* `one-and-done`\n",
    "* `1-and-done`\n",
    "* `*-and-+-are-commutative`\n",
    "* `but-/-and---are-not`\n",
    "* `1+`\n",
    "\n",
    "In fact, the last name is a built-in ACL2 function that adds one to its argument, e.g., `(1+ 3) = 4`. \n",
    "\n",
    "> It may seem strange at first that `x-y` is a single variable name instead of an arithmetic expression. Take a moment now to make peace with this fact, so it doesn't confuse you later :-)"
   ]
  },
  {
   "cell_type": "markdown",
   "metadata": {},
   "source": [
    "## \"Variables\" in ACL2\n",
    "\n",
    "What can we say about the `x` in this expression:\n",
    "\n",
    "    (+ (* 3 x x) (* 8 x) 12)\n",
    "\n",
    "It plays the same role as `x` in other programming languages, so we usually call it a *variable*. Like variables in other programming languages, `x` can have a value. But unlike other programming languages, ACL2 does not have assignment statements, so there is no way to set the value of `x`! This may seem strange, at first, so take a moment to let that sink in: ***There is no way to change the value of any variable in ACL2.***\n",
    "\n",
    "How does `x` ever get a value, then? The answer is that variables only(*) appear in function definitions. The expression above appeared in the definition of `f`:\n",
    "\n",
    "    (defun f (x)\n",
    "        (+ (* 3 x x) (* 8 x) 12))\n",
    "\n",
    "When ACL2 is evaluating `(f 3)`, the variable `x` has the value 3. When ACL2 evaluates `(f 10)`, the variable `x` has the value 10. There is no way to change the value of `x`. It is initialized when the function is called, and the value is fixed until the function returns, after which the variable `x` ceases to exist. This is actually how *parameters* behave in languages like C++ or Java, so when you think of \"variables\" in ACL2 try to think about \"parameters\" instead.\n",
    "\n",
    "(*) OK, that's not entirely true. There are other places where variables can be defined, but the main point is still true, namely that a variable is initialized with a value, but after that the value never changes."
   ]
  },
  {
   "cell_type": "markdown",
   "metadata": {},
   "source": [
    "## Some Common Errors\n",
    "\n",
    "Of course, when you define a function, many things can go wrong. For instance, consider the following definition, where the variable `x` was misspelled. Try submitting that to ACL2."
   ]
  },
  {
   "cell_type": "code",
   "execution_count": 9,
   "metadata": {},
   "outputs": [
    {
     "name": "stdout",
     "output_type": "stream",
     "text": [
      "ACL2S !>>(DEFUN BAD-F (X)\n",
      "                (+ (* 3 X X) (* 8 Y) 12))\n",
      "\n",
      "\n",
      "ACL2 Error in ( DEFUN BAD-F ...):  The body of BAD-F contains a free\n",
      "occurrence of the variable symbol Y.\n",
      "\n",
      "\n",
      "Summary\n",
      "Form:  ( DEFUN BAD-F ...)\n",
      "Rules: NIL\n",
      "Time:  0.00 seconds (prove: 0.00, print: 0.00, other: 0.00)\n",
      "\n",
      "ACL2 Error in ( DEFUN BAD-F ...):  See :DOC failure.\n",
      "\n",
      "******** FAILED ********\n"
     ]
    }
   ],
   "source": [
    "(defun bad-f (x)\n",
    "    (+ (* 3 x x) (* 8 y) 12))"
   ]
  },
  {
   "cell_type": "markdown",
   "metadata": {},
   "source": [
    "When you submit this definition, ACL2 will respond with something like this:\n",
    "\n",
    "    ACL2 Error in ( DEFUN BAD-F ...):  The body of BAD-F contains a free\n",
    "    occurrence of the variable symbol Y.\n",
    "\n",
    "\n",
    "    Summary\n",
    "    Form:  ( DEFUN BAD-F ...)\n",
    "    Rules: NIL\n",
    "    Time:  0.00 seconds (prove: 0.00, print: 0.00, other: 0.00)\n",
    "\n",
    "    ACL2 Error in ( DEFUN BAD-F ...):  See :DOC failure.\n",
    "\n",
    "    ******** FAILED ********\n",
    "\n",
    "This time, the first paragraph is an error message letting you know something went wrong. If you read the error message, you see that the problem is \"a free occurrence of the variable symbol Y\". What does it mean to be \"free\"? This means that the symbol Y is never defined. A Java compiler may have complained that the variable Y is undefined in this exact situation.\n",
    "\n",
    "Here's another bad function definition. Try submitting it to ACL2 and see if the error message tells you what went wrong."
   ]
  },
  {
   "cell_type": "code",
   "execution_count": 10,
   "metadata": {},
   "outputs": [
    {
     "name": "stdout",
     "output_type": "stream",
     "text": [
      "ACL2S !>>(DEFUN BAD-F (X)\n",
      "                (+ (* 3 X X) (^ 8 X) 12))\n",
      "\n",
      "\n",
      "ACL2 Error in ( DEFUN BAD-F ...):  The symbol ^ (in package \"ACL2S\")\n",
      "has neither a function nor macro definition in ACL2.  Please define\n",
      "it.  See :DOC near-misses.  Note:  this error occurred in the context\n",
      "(^ 8 X).\n",
      "\n",
      "\n",
      "Summary\n",
      "Form:  ( DEFUN BAD-F ...)\n",
      "Rules: NIL\n",
      "Time:  0.00 seconds (prove: 0.00, print: 0.00, other: 0.00)\n",
      "\n",
      "ACL2 Error in ( DEFUN BAD-F ...):  See :DOC failure.\n",
      "\n",
      "******** FAILED ********\n"
     ]
    }
   ],
   "source": [
    "(defun bad-f (x)\n",
    "    (+ (* 3 x x) (^ 8 x) 12))"
   ]
  },
  {
   "cell_type": "markdown",
   "metadata": {},
   "source": [
    "The error message in the first paragraph says something like\n",
    "\n",
    "    ACL2 Error in ( DEFUN BAD-F ...):  The symbol ^ (in package \"ACL2S\")\n",
    "    has neither a function nor macro definition in ACL2.  Please define\n",
    "    it.  See :DOC near-misses.  Note:  this error occurred in the context\n",
    "    (^ 8 X).\n",
    "\n",
    "This is complaining about the symbol \"^\", which it says has \"neither a function nor macro definition in ACL2\". This is just like the previous case. The program is using \"^\", but this is not declared anywhere. It's like calling a function that is not defined. \n",
    "\n",
    "> Note that ACL2 can tell if an undefined symbol is a variable or a function symbol. It's an undefined function if it's used right after a left parnthesis as in `(unknown-symbol a b c)`. It's an undefined variable if it's used anywhere elser, as in `(f a unknown-symbol c)`.\n"
   ]
  },
  {
   "cell_type": "markdown",
   "metadata": {},
   "source": [
    "Another problem that crops up is that ACL2 does not let you redefine a function. Once you give a definition for `f`, you can't give a new definition, even to fix a bug. For example, try to enter the following definition for `f`:"
   ]
  },
  {
   "cell_type": "code",
   "execution_count": 16,
   "metadata": {},
   "outputs": [
    {
     "name": "stdout",
     "output_type": "stream",
     "text": [
      "ACL2S !>>(DEFUN F (X) (+ (* 5 X X) (* 8 X) 12))\n",
      "\n",
      "\n",
      "ACL2 Error in ( DEFUN F ...):  The name F is in use as a function.\n",
      "Note that the proposed body for F,\n",
      "\n",
      "(+ (* 5 X X) (* 8 X) 12),\n",
      "\n",
      "differs from the existing body,\n",
      "\n",
      "(+ (* 3 X X) (* 8 X) 12).\n",
      "\n",
      "The redefinition feature is currently off.  See :DOC ld-redefinition-\n",
      "action.\n",
      "\n",
      "\n",
      "Note: F was previously defined at the top level.\n",
      "\n",
      "\n",
      "Summary\n",
      "Form:  ( DEFUN F ...)\n",
      "Rules: NIL\n",
      "Time:  0.00 seconds (prove: 0.00, print: 0.00, other: 0.00)\n",
      "\n",
      "ACL2 Error in ( DEFUN F ...):  See :DOC failure.\n",
      "\n",
      "******** FAILED ********\n"
     ]
    }
   ],
   "source": [
    "(defun f (x)\n",
    "    (+ (* 5 x x) (* 8 x) 12))"
   ]
  },
  {
   "cell_type": "markdown",
   "metadata": {},
   "source": [
    "Notice how ACL2 tells you that this definition is attempting to override a previous definition. To avoid this, you should take a snapshot of the code *before* defining the function. Consider the following definition and subsequent redefinition of `g`:"
   ]
  },
  {
   "cell_type": "code",
   "execution_count": 21,
   "metadata": {},
   "outputs": [
    {
     "name": "stdout",
     "output_type": "stream",
     "text": [
      "ACL2S !>>(DEFSNAPSHOT DEFINE-G)\n",
      "\n",
      "\n",
      "ACL2 Error in TOP-LEVEL:  The symbol DEFSNAPSHOT (in package \"ACL2S\")\n",
      "has neither a function nor macro definition in ACL2.  Please define\n",
      "it; or perhaps you meant ACL2::DEFSNAPSHOT, which has the same name\n",
      "but is in a different package.  See :DOC near-misses.  Note:  this\n",
      "error occurred in the context (DEFSNAPSHOT DEFINE-G).\n",
      "\n"
     ]
    }
   ],
   "source": [
    "(defsnapshot define-g)\n",
    "(defun g (x)\n",
    "  (+ 1 x))\n",
    "  \n",
    "(defun h (x)\n",
    "  (+ 2 x))\n",
    "  \n",
    "(defsnapshot define-g)\n",
    "(defun g (x)\n",
    "  (+ 3 x))"
   ]
  },
  {
   "cell_type": "markdown",
   "metadata": {},
   "source": [
    "Notice that this time ACL2 lets you redefine `g`. But beware! This only works because ACL2 took a snapshot of the world before the (first) definition of `g`, so any other functions that you defined in between will be lost. In particular, the function `h` will not be defined at the end of the code above."
   ]
  },
  {
   "cell_type": "markdown",
   "metadata": {},
   "source": [
    "## Exercise\n",
    "\n",
    "Now, use ACL2 to define the function `(discr a b c)` which is defined by the formula\n",
    "\n",
    "$$discr(a, b, c) = b^2 - 4ac$$\n",
    "\n",
    "Hint: Don't forget to take a snapshot, just in case you have to debug your function.\n"
   ]
  },
  {
   "cell_type": "code",
   "execution_count": 12,
   "metadata": {},
   "outputs": [
    {
     "name": "stdout",
     "output_type": "stream",
     "text": [
      "ACL2S !>>(DEFUN DISCR (A B C)\n",
      "                (- (* B B) (* 4 A C)))\n",
      "\n",
      "Since DISCR is non-recursive, its admission is trivial.  We observe\n",
      "that the type of DISCR is described by the theorem \n",
      "(ACL2-NUMBERP (DISCR A B C)).  We used primitive type reasoning.\n",
      "\n",
      "Summary\n",
      "Form:  ( DEFUN DISCR ...)\n",
      "Rules: ((:FAKE-RUNE-FOR-TYPE-SET NIL))\n",
      "Time:  0.00 seconds (prove: 0.00, print: 0.00, other: 0.00)\n",
      " DISCR\n",
      "\n"
     ]
    }
   ],
   "source": [
    "(defun discr (a b c)\n",
    "  (- (* b b) (* 4 a c)))"
   ]
  },
  {
   "cell_type": "markdown",
   "metadata": {},
   "source": [
    "You may recognize $discr(a, b, c)$ as the funciton that computes the discriminant of the quadratic function $ax^2 + bx + c$. This can be used to determine if the quadratic equation has 0, 1, or 2 roots according to the rule\n",
    "* 0, if the discriminant is negative\n",
    "* 1, if the discriminant is equal to 0\n",
    "* 2, if the discriminant is positive\n",
    "\n",
    "Define the ACL2 function $nroots(a, b, c)$ that returns the number of roots in $ax^2 + bx + c$. Your function can (and should) call the $discr(a, b, c)$ function defined previously.\n",
    "\n",
    "Use this function to find the number of roots of the following equations:\n",
    "* $x^2 - 1$\n",
    "* $x^2 + 1$\n",
    "* $x^2 + 2x +1$\n",
    "\n",
    "Hint: Remember that snapshots are your friend."
   ]
  },
  {
   "cell_type": "code",
   "execution_count": 14,
   "metadata": {},
   "outputs": [
    {
     "name": "stdout",
     "output_type": "stream",
     "text": [
      "ACL2S !>>(DEFUN NROOTS (A B C)\n",
      "                (IF (< (DISCR A B C) 0)\n",
      "                    0 (IF (= (DISCR A B C) 0) 1 2)))\n",
      "\n",
      "The event ( DEFUN NROOTS ...) is redundant.  See :DOC redundant-events.\n",
      "\n",
      "Summary\n",
      "Form:  ( DEFUN NROOTS ...)\n",
      "Rules: NIL\n",
      "Time:  0.00 seconds (prove: 0.00, print: 0.00, other: 0.00)\n",
      " :REDUNDANT\n",
      "ACL2S !>>(NROOTS 1 0 -1)\n",
      "2\n",
      "ACL2S !>>(NROOTS 1 0 1)\n",
      "0\n",
      "ACL2S !>>(NROOTS 1 2 1)\n",
      "1\n",
      "\n"
     ]
    }
   ],
   "source": [
    "(defun nroots (a b c)\n",
    "  (if (< (discr a b c) 0)\n",
    "      0\n",
    "      (if (= (discr a b c) 0)\n",
    "          1\n",
    "          2)))\n",
    "\n",
    "(nroots 1 0 -1)\n",
    "(nroots 1 0 1)\n",
    "(nroots 1 2 1)"
   ]
  }
 ],
 "metadata": {
  "kernelspec": {
   "display_name": "ACL2",
   "language": "acl2",
   "name": "acl2"
  },
  "language_info": {
   "codemirror_mode": "Common Lisp",
   "file_extension": ".lisp",
   "mimetype": "text/x-common-lisp",
   "name": "acl2"
  }
 },
 "nbformat": 4,
 "nbformat_minor": 4
}
