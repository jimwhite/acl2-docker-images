{
 "cells": [
  {
   "cell_type": "markdown",
   "metadata": {},
   "source": [
    "# Introduction to ACL2\n",
    "\n",
    "## Basic Expressions\n",
    "\n",
    "ACL2 is a functional language, so code in ACL2 consists of function calls only. You may be used to programming in a language that has statements, like assignment statements, if-statements, loops, etc. But the only think you will see in ACL2 are expressions. Unlike statements, expressions always have a value, and in ACL2 expressions are always written down as function calls.\n",
    "\n",
    "For example, in standard mathematical notation, we may call the function $f$ with parameter $x$ using $f(x)$. In a language like Python or C++, you may write \n",
    "```python \n",
    "f(x)\n",
    "``` \n",
    "But in ACL2 we invoke functions using the syntax\n",
    "```lisp\n",
    "(f x)\n",
    "```\n",
    "Notice the syntax rule. This is just about the only syntax rule in ACL2! To call a function $f$ with parameter $x$, you write \n",
    "* a left parenthesis `(`\n",
    "* the function name `f`\n",
    "* a space\n",
    "* the parameter `x`\n",
    "* a right parenthesis `)`\n",
    "\n",
    "If you have more than one parameter, say $x$ and $y$, you simply include all parameters inside the parenthesis, and separated by spaces (*not* commas), e.g., `(f x y)`.\n"
   ]
  },
  {
   "cell_type": "markdown",
   "metadata": {},
   "source": [
    "## Exercise\n",
    "This lesson is very important, so here are some exercises for you to practice. ACL2 has a built-in function called `abs` that computes the absolute value of a number, i.e., $abs(x)=|x|$. Use this function to compute\n",
    "* $|-3|$\n",
    "* $|10|$\n",
    "* $|4|$\n",
    "Enter your answers in the next cell and run that cell to see the results!"
   ]
  },
  {
   "cell_type": "code",
   "execution_count": null,
   "metadata": {},
   "outputs": [],
   "source": []
  },
  {
   "cell_type": "markdown",
   "metadata": {},
   "source": [
    "When you executed the previous cell, you should have received output like this:\n",
    "\n",
    "    ACL2S !>>(ABS -3)\n",
    "    3\n",
    "    ACL2S !>>(ABS 10)\n",
    "    10\n",
    "    ACL2S !>>(ABS 4)\n",
    "    4\n",
    "\n",
    "ACL2 uses a \"read-evel-print-loop\" or REPL, similar to other languages like Python. For this exercise, \n",
    "your program should consist of three lines. When the program is submitted to ACL2, ACL2 responds by \n",
    "1. displaying the command prompt `ACL2 !>`\n",
    "2. echoing your command, e.g., `(abs -3)`\n",
    "3. showing the result of your commamnd on the next line, e.g., `3`.\n"
   ]
  },
  {
   "cell_type": "markdown",
   "metadata": {},
   "source": [
    "## Arithmetic and Nested Expressions\n",
    "\n",
    "Arithmetic operations in ACL2 are nothing more than function calls. For example, when you see the expression $2+3$, you may think of it as an arithmetic operation acting on the numbers $2$ and $3$. But \"operation\" and \"acting on\" are really just synonyms for calling a function with some arguments. So how do you evaluate `2+3` in ACL3? It's easy! You just call the \"function\" $+$ with the arguments $2$ and $3$:\n",
    "```lisp\n",
    "(+ 2 3)\n",
    "```\n",
    "As you might expect, there are many other arithmetic functions: `+`, `-`, `*`, and `/`. \n",
    "\n",
    "There are also comparison functions, such as `=`, `<`, `<=`, `>`, and `>=`. For instance, the following expression evaluates to true:\n",
    "```lisp\n",
    "(< 0 2)\n",
    "```\n",
    "because it is true that $0$ is less than $2$.\n",
    "\n",
    "> **Warning:** The `=` operator tests equality. It is *not* an assignment operator. In functional languages, there are no variables, in the sense that nothing can change its value, so statements like `x = x+1` are non-sensical. Did you notice how I used the word \"statements\" as opposed to \"expressions\"? Remember that in functional languages there are *only* expressions and not *statements* (like assignments, if-statements, etc.).\n",
    "\n",
    "One more thing! How do you evaluate an expression like $3 + 2\\times10$? In this expression, you have the function $+$ which takes two arguments\n",
    "1. the number 3\n",
    "2. the result of $2\\times10$\n",
    "The second argument is itself a function call. The only new wrinkle is that an argument to a function ($+$ in this case) can also be the result of a function call ($2\\times10$ in this case). This is not really new. Surely you have written code like this before:\n",
    "```\n",
    "magnitude = Math.sqrt(sumSquares(vec));\n",
    "```\n",
    "In that code, the argument to the square root function is the sum of the squares of the elements of the vector: the argument to a function is itself the value of the call to a function. You've seen this before. In ACL2, the syntax looks like this:\n",
    "```lisp\n",
    "(+ 3 (* 2 10))\n",
    "```\n",
    "\n",
    "But be careful! In standard mathematical notation, we're used to order-of-operations or PEMDAS, a convention for deciding whether $3 + 2\\times10$ is $23$ or $60$. (It's $23$.) To evaluate $3\\times2+10$ in ACL2, you would do the same as before, but this time it's the first argument that is a nested function call:\n",
    "```lisp\n",
    "(+ (* 3 2) 10)\n",
    "```\n",
    "There is no \"order of operations\" or \"operator precedence\" in ACL2. You have to write the expression in the proper order.\n"
   ]
  },
  {
   "cell_type": "markdown",
   "metadata": {},
   "source": [
    "# Exercise\n",
    "\n",
    "It's time to practice! In the next cell, write ACL2 expressions to evaluate the following\n",
    "* $2 + 3$\n",
    "* $10\\times10 - 4\\times3\\times5$\n",
    "* $2(10-6)$\n",
    "* $15 < 20$\n",
    "* $10 \\ge 20$"
   ]
  },
  {
   "cell_type": "code",
   "execution_count": null,
   "metadata": {},
   "outputs": [],
   "source": []
  },
  {
   "cell_type": "markdown",
   "metadata": {},
   "source": [
    "## Logical Expressions\n",
    "The last two answers in the previous cell should look like this:\n",
    "\n",
    "    ACL2S !>>(< 15 20)\n",
    "    T\n",
    "    ACL2S !>>(>= 10 20)\n",
    "    NIL\n",
    "\n",
    "These are logical (aka Boolean) expressions, so they should evaluate to \"true\" or \"false\". You can see that in ACL2 \"true\" is denoted by the constant `T` and false by `NIL`.\n",
    "\n",
    "Why `NIL` instead of `F`? ¯\\\\\\_(ツ)\\_/¯ These are just the sorts of things one gets used to as a programmer. When you stop to think about it, when exactly did you start thinking that `*` means multiplication and `!` means \"not\"?\n",
    "\n",
    "You now know the Boolean constants in ACL2: `T` and `NIL`. ACL2 also has Boolean or logical operators. There is no accepted syntax for the Boolean operators, but here are some notations you may be used to:\n",
    "\n",
    "| Math              | C++/Java      | ACL2\n",
    "|:-----------------:|:-------------:|:-----------\n",
    "| $\\wedge$          | `&&`          | `and`\n",
    "| $\\vee$            | `\\|\\|`        | `or`\n",
    "| $\\neg$            | `!`           | `not`\n",
    "| $\\rightarrow$     | None          | `implies`\n",
    "| $\\leftrightarrow$ | None          | `iff`\n",
    "\n",
    "For example, here's an ACL2 expressions that says $(false \\vee \\neg false) \\leftrightarrow true$:\n",
    "```lisp\n",
    "(iff (or NIL (not NIL)) T)\n",
    "```\n",
    "\n",
    "It's your turn! Write ACL2 expressions for each of the following:\n",
    "\n",
    "1. $\\neg true \\leftrightarrow false$\n",
    "2. $\\neg (true \\vee false) \\leftrightarrow (\\neg true \\wedge \\neg false)$\n",
    "3. $3 > 1 \\rightarrow 3-1 \\ge 0$"
   ]
  },
  {
   "cell_type": "code",
   "execution_count": null,
   "metadata": {},
   "outputs": [],
   "source": []
  },
  {
   "cell_type": "markdown",
   "metadata": {},
   "source": [
    "## Conditional Expressions\n",
    "You are already familiar with if-statements from other programming languages. ACL2 has an `if` expression, which is similar. It it is really a function that satisfies these two properties:\n",
    "* `(if T x y) = x`\n",
    "* `(if NIL x y) = y`\n",
    "\n",
    "As you go through these tutorials, you will become more accustomed to describing functions using equations like the ones above. As you can see, the equations tell you everything you need to know about the function.\n",
    "\n",
    "> Well, not quite. What is the value of `(if 3 5 10)`? Althougnh it may seem non-sensical to call `if` with anything other than a Boolean argument, somebody could. And it's not as crazy as it sounds. In languages like C++, false is represented by the number $0$, and *anything else* is considered true, though $1$ is the \"preferred\" true value. The same thing works in ACL2. `NIL` is false, but *anything else* is considered true, though `T` is the \"preferred\" true value.\n",
    "\n",
    "It is important to note that in ACL2 `if` is a function, not a statement. So it is actually more like the \"ternary operator\" in Java or C++, where you can write\n",
    "```java\n",
    "(x < 0 ? -x : x)\n",
    "```\n",
    "And since that's an expression, it can appear inside other expressions, as in\n",
    "```java\n",
    "Math.sqrt(x < 0 ? -x : x) / 2\n",
    "```\n",
    "In ACL2, you could write that expression as\n",
    "```lisp\n",
    "(/ (sqrt (if (< x 0) (- x) x)) 2)\n",
    "```\n",
    "But we're getting ahead of ourselves! We won't see \"variables\" like `x` in ACL2 until we talk about function definitions. For now, you should just get used to conditional expressions by writing these expressions in ACL2:\n",
    "1. if 10 is negative, then 0, otherwise 10\n",
    "2. twice the maximum of 10 and 20. (Use an if to find the maximum)\n"
   ]
  },
  {
   "cell_type": "code",
   "execution_count": null,
   "metadata": {},
   "outputs": [],
   "source": []
  }
 ],
 "metadata": {
  "kernelspec": {
   "display_name": "ACL2",
   "language": "acl2",
   "name": "acl2"
  },
  "language_info": {
   "codemirror_mode": "Common Lisp",
   "file_extension": ".lisp",
   "mimetype": "text/x-common-lisp",
   "name": "acl2"
  }
 },
 "nbformat": 4,
 "nbformat_minor": 4
}
