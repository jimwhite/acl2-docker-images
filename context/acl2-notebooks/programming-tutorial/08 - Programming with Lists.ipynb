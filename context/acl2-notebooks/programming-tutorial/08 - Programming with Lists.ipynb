{
 "cells": [
  {
   "cell_type": "markdown",
   "metadata": {},
   "source": [
    "# Programming with Lists\n",
    "\n",
    "## Lists\n",
    "\n",
    "ACL2 uses lists as its one main data structure, which is often overused. In fact, ACL2 is a variant of a (much) older language called LISP, which stands for LISt Processing. Evidently, the designers of LISP (a genius called John McCarthy) were very proud of what LISP can do with lists.\n",
    "\n",
    "You can think of a list as a `List<Object>` in Java or a `list<T>` in C++. It is simply an ordered collection of elements. In ACL2, we have two ways to write down lists. The expression\n",
    "\n",
    "    '(a b c d e)\n",
    "\n",
    "is a **constant** list; it's constant because the leading single quote quotes the entire list. This list has five elements, and they are the letter `'a`, `'b`, ..., and `'e`. Notice I quoted those letters when I referred to them outside of the list.\n",
    "\n",
    "The other way to describe a list is with the `list` constructor\n",
    "\n",
    "    (list a b c d e)\n",
    "\n",
    "This also creates a list of five elements, but this time the elements are **not** quoted. So you must interpret those as the variables `a`, `b`, and so on, and the list contains the **values** of those variables. This may seem confusing at first, but it is nothing more than the difference between\n",
    "\n",
    "    return \"i\";\n",
    "\n",
    "and\n",
    "\n",
    "    return i;\n",
    "\n",
    "in Java. In the first place, the `i` is quoted, so the functions returns an actual \"i\", but in the second case the `i` is not quoted, so the function returns the value of the variable `i`.\n",
    "\n",
    "You try it! Write ACL2 lists for the following:\n",
    "* a list of all of your siblings (including yourself)\n",
    "* a list of prime numbers less than 10\n",
    "* a list of all the programming languages you already know"
   ]
  },
  {
   "cell_type": "code",
   "execution_count": null,
   "metadata": {},
   "outputs": [],
   "source": []
  },
  {
   "cell_type": "markdown",
   "metadata": {},
   "source": [
    "## Cons: The List Constructor\n",
    "\n",
    "The `list` constructor is a great way to construct a list if you already know the elements that should be in the list. E.g., if you want a list of vowels, you can build it using `(list 'a 'e 'i 'o 'u)`. But what if you need to build a list gradually, e.g., by adding elements to a small list and growing it into a larger list?\n",
    "\n",
    "You can do just that with the `cons` constructor. After all, a list is either\n",
    "* the empty list, which can be written as `NIL`, `'()`, or `(list)`\n",
    "* a single element followed by a list of elements, written as `(cons a L)`\n",
    "\n",
    "Here are some examples:\n",
    "\n",
    "    (CONS 1 NIL)             = '(1)\n",
    "    (CONS 1 (LIST 2 3 4))    = '(1 2 3 4)\n",
    "    (CONS 1 '(2 3 4))        = '(1 2 3 4)\n",
    "\n",
    "> **Warning:** Remember that in ACL2 there is no way to change any variables. So when you use `cons`, you create a new list that has a first element and a copy of the old list. You are not \"adding an element to a list\", but rather building a new and larger list.\n",
    "\n",
    "> **Warning:** The second argument to `cons` should be a list! If it is anything other than a list, `cons` will return a pair of elements, not a list. If your function is returning something that looks like `'(FRED . WILMA)`, you are using `cons` on something other than a list.\n",
    "\n",
    "Your turn. Write an ACL2 expression that creates the list `'(1 2 3)` using only `cons` and `nil`."
   ]
  },
  {
   "cell_type": "code",
   "execution_count": null,
   "metadata": {},
   "outputs": [],
   "source": []
  },
  {
   "cell_type": "markdown",
   "metadata": {},
   "source": [
    "## Append\n",
    "\n",
    "Another way to create lists is to take two lists and combine them by putting the elements of one list following by the elements of the other list. This is what `append` does. For example\n",
    "\n",
    "    (APPEND '(1 3 5) '(2 4))   = '(1 3 5 2 4)\n",
    "    (APPEND NIL '(1 2 3))      = '(1 2 3)\n",
    "\n",
    "> **Warning:** Make sure you understand the difference between `cons` and `append`. In particular, only the second argument to `cons` needs to be a list, but **both** arguments to `append` need to be lists. Do you see why? A similar distinction involves the Python list methods `append` and `extend`.\n",
    "\n",
    "It's your turn! Use `append` to create the list `'(1 2 3)` in four different ways."
   ]
  },
  {
   "cell_type": "code",
   "execution_count": null,
   "metadata": {},
   "outputs": [],
   "source": []
  },
  {
   "cell_type": "markdown",
   "metadata": {},
   "source": [
    "## First, Second, Third, ..., and Last\n",
    "\n",
    "The functions `first`, `second`, `third`, and so on, can be used to get the corresponding elements from a list. For example,\n",
    "\n",
    "    (first '(a b c d e f g h i j))     = 'a\n",
    "    (second '(a b c d e f g h i j))    = 'b\n",
    "    (third '(a b c d e f g h i j))     = 'c\n",
    "\n",
    "The function `last` is similar, but alas it does not return the last element of the list, as you might expect. What it does is it returns a list containing the last element:\n",
    "\n",
    "    (last '(a b c d e f g h i j))      = '( j )\n",
    "\n",
    "It's your turn! Write an ACL2 expression similar to the example above that returns the last element of the list, i.e., `'j`. Also, experiment to discover how high the sequence `first`, `second`, ..., goes. I mean, are there really built-in functions called `seventeenth` or `forty-seventh`?\n",
    "\n",
    "> **Spoilers:** Maybe there isn't a function called `forty-seventh`, but there is a function called `nth` that can do the trick. `(nth 46 l)` is the forty-seventh element of `l`. (Yes, `nth` uses zero-based indexing, so `(first l) = (nth 0 l)`. ¯\\\\\\_(ツ)\\_/¯\n"
   ]
  },
  {
   "cell_type": "code",
   "execution_count": null,
   "metadata": {},
   "outputs": [],
   "source": []
  },
  {
   "cell_type": "markdown",
   "metadata": {},
   "source": [
    "## First and Rest\n",
    "\n",
    "`First`, `second`, and so on are great if you know exactly how many elements a list has. But what if you don't?\n",
    "\n",
    "That's where `rest` comes in. In some ways, `rest` is the anti-`first`. It returns all the elements of a list *except* the first one:\n",
    "\n",
    "        (REST '(1))              = NIL\n",
    "        (REST '(1 2 3 4))        = '(2 3 4)\n",
    "        (REST (LIST 1 2 3 4))    = '(2 3 4)\n",
    "        (REST NIL)               = NIL\n",
    "\n",
    "The last one may surprise you, but then again&mdash;what else could it possibly return?\n",
    "\n",
    "> **Note:** `first` and `rest` can also be thought of as the anti-`cons`. If you create a new list with `(cons a L)`, then the `first` of that list is `a` and the rest is `L`.\n",
    "\n",
    "> **Trivia:** In prerecorded history, before even the internet, `first` and `rest` were called `CAR` and `CDR` respectively. The reasons are lost in history (but Google it if you want to know). You may run into ACL2 output that includes `CAR` and `CDR`, and now you know what it means. \n",
    "\n",
    "It's your turn! Write an ACL2 expression using `first`, `second`, `third`, ..., `last`, or `rest`, that returns a list with the first two elements of `'(1 2 3 4)`, and another expression that returns the last two elements of `'(1 2 3 4)`."
   ]
  },
  {
   "cell_type": "code",
   "execution_count": null,
   "metadata": {},
   "outputs": [],
   "source": []
  },
  {
   "cell_type": "markdown",
   "metadata": {},
   "source": [
    "## Recognizing Empty Lists\n",
    "\n",
    "When you write programs that work on lists, you will often need to check if a list is empty or not. For example, here are the defining equations for a function that counts the number of elements of a list:\n",
    "\n",
    "    (LEN l) = 0,                       if l=NIL\n",
    "    (LEN l) = (+ 1 (LEN (REST l))),    otherwise\n",
    "\n",
    "However, comparing a list to `NIL` is a bad idea for precisely the same reason that comparing a number to 0 is a bad idea when defining functions. The issue is that the defining equations are not complete; those equations don't tell you what `(LEN 1024)` should be, for example.\n",
    "\n",
    "What we really meant is this:\n",
    "\n",
    "    (LEN l) = 0,                       if l=NIL or anything other than a non-empty list\n",
    "    (LEN l) = (+ 1 (LEN (REST l))),    otherwise\n",
    "\n",
    "For numbers, ACL2 provided the function `(zp n)` that we could use just for this purpose. For historical reasons, ACL2 provides **two** functions that you can use here.\n",
    "\n",
    "`(endp l)` is true precisely when `l` is anything other than a non-empty list (including when `l=NIL`). So you can define the length function correctly like this:\n",
    "\n",
    "    (LEN l) = 0,                       if (endp l) is true\n",
    "    (LEN l) = (+ 1 (LEN (REST l))),    otherwise\n",
    "\n",
    "ACL2 also provides the function `(consp l)` which is true precisely when `l` is a non-empty list (or more precisely, when `l` was created using `cons`, which includes `list`, `append`, and other list constructors). For example,\n",
    "\n",
    "    (CONSP '(1 2 3 4))  = T\n",
    "    (CONSP NIL)         = NIL\n",
    "    (CONSP 42)          = NIL\n",
    "\n",
    "So the length function can be defined using `consp` as follows:\n",
    "\n",
    "    (LEN l) = (+ 1 (LEN (REST l))),    if (consp l) is true\n",
    "    (LEN l) = 0,                       otherwise\n",
    "\n",
    "Notice that if you use `consp` vs `endp`, the end result is that the then-case and the else-case of the condition are swapped. Some ACL2 programmers prefer to use `endp`, perhaps because it's more similar to using `zp`, but other ACL2 programmers prefer to use `consp`, perhaps because `consp` is more historical (i.e., `consp` came first). Choose whichever way appeals to you!\n",
    "\n",
    "One more thing. There is no need for you to define the function `LEN`, because it is an ACL2 built-in function. For example,\n",
    "\n",
    "    (LEN '(1))               = 1\n",
    "    (LEN NIL)                = 0\n",
    "    (LEN '(1 (2 3 4 5)))     = 2\n",
    "\n",
    "The last one may have surprised you, but take a second look to make sure you understand why the length of that list really is 2, instead of 5.\n",
    "\n",
    "> **Warning:** The function `LEN` is slow, in that it has to count all the elements of the list. So checking the length of a list with 1,000 elements will take around 1,000 steps. Some beginning programmers like to check if a list is empty by checking whether its length is 0. Avoid this temptation; use `endp` or `consp` instead. The reason is that if you compute the length of the list each time through the loop, your linear $O(n)$ algorithm turns into a quadratic $O(n^2)$ algorithm. For a list with 1,000 elements, that means the difference between 1,000 steps and 1,000,000 steps. For a list with 1,000,000 items (and assuming we can do 100,000 steps per second), that means the difference between 10 seconds versus four months. \n",
    ">\n",
    ">Don't do it, just don't. \n"
   ]
  }
 ],
 "metadata": {
  "kernelspec": {
   "display_name": "ACL2",
   "language": "acl2",
   "name": "acl2"
  },
  "language_info": {
   "codemirror_mode": "Common Lisp",
   "file_extension": ".lisp",
   "mimetype": "text/x-common-lisp",
   "name": "acl2"
  }
 },
 "nbformat": 4,
 "nbformat_minor": 4
}
